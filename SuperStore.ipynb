{
 "cells": [
  {
   "cell_type": "code",
   "execution_count": 1,
   "id": "5c425ed8-5ab8-4ed2-b971-e60f5ad1209c",
   "metadata": {},
   "outputs": [
    {
     "name": "stdout",
     "output_type": "stream",
     "text": [
      "✅ Dữ liệu đã được xử lý và lưu vào 'Cleaned_SuperStore.csv'\n"
     ]
    }
   ],
   "source": [
    "import pandas as pd\n",
    "\n",
    "# Đọc file Excel\n",
    "file_path = \"SuperStore.xlsx\"\n",
    "df = pd.read_excel(file_path)\n",
    "\n",
    "# Chọn cột cần thiết\n",
    "df = df[['Order ID', 'Order Date', 'Ship Date', 'Customer ID', 'Customer Name', 'Segment', \n",
    "         'Country', 'City', 'State', 'Postal Code', 'Region', 'Product ID', 'Category', \n",
    "         'Sub-Category', 'Product Name', 'Sales', 'Quantity', 'Discount', 'Profit']]\n",
    "\n",
    "# Xử lý bảng DimDate\n",
    "df['Order Date'] = pd.to_datetime(df['Order Date'])\n",
    "df['Ship Date'] = pd.to_datetime(df['Ship Date'])\n",
    "df['Year'] = df['Order Date'].dt.year\n",
    "df['Month'] = df['Order Date'].dt.month\n",
    "df['Day'] = df['Order Date'].dt.day\n",
    "\n",
    "# Xuất file CSV\n",
    "df.to_csv(\"Cleaned_SuperStore.csv\", index=False)\n",
    "print(\"✅ Dữ liệu đã được xử lý và lưu vào 'Cleaned_SuperStore.csv'\")\n"
   ]
  },
  {
   "cell_type": "code",
   "execution_count": 3,
   "id": "3a5f0594-9117-4e26-896f-f3c840bc1b44",
   "metadata": {},
   "outputs": [
    {
     "name": "stdout",
     "output_type": "stream",
     "text": [
      "✅ Dữ liệu đã được nhập thành công vào SQL Server!\n"
     ]
    }
   ],
   "source": [
    "import pyodbc\n",
    "import pandas as pd\n",
    "\n",
    "# Thông tin kết nối SQL Server \n",
    "server = r'DESKTOP-URB07L7\\SQLEXPRESS'  \n",
    "database = 'SuperStoreDB1'\n",
    "username = 'sa'  \n",
    "password = '123' \n",
    "\n",
    "# Kết nối SQL Server\n",
    "conn = pyodbc.connect(f'DRIVER={{SQL Server}};SERVER={server};DATABASE={database};UID={username};PWD={password}')\n",
    "cursor = conn.cursor()\n",
    "\n",
    "# Đọc dữ liệu đã xử lý từ file CSV\n",
    "df = pd.read_csv(\"Cleaned_SuperStore.csv\")\n",
    "\n",
    "# Insert dữ liệu vào bảng DimCustomer\n",
    "for index, row in df.iterrows():\n",
    "    cursor.execute(\"\"\"\n",
    "        IF NOT EXISTS (SELECT 1 FROM DimCustomer WHERE CustomerID = ?)\n",
    "        INSERT INTO DimCustomer (CustomerID, CustomerName, Segment) \n",
    "        VALUES (?, ?, ?)\"\"\",\n",
    "        row['Customer ID'], row['Customer ID'], row['Customer Name'], row['Segment'])\n",
    "\n",
    "# Insert dữ liệu vào bảng DimProduct\n",
    "for index, row in df.iterrows():\n",
    "    cursor.execute(\"\"\"\n",
    "        IF NOT EXISTS (SELECT 1 FROM DimProduct WHERE ProductID = ?)\n",
    "        INSERT INTO DimProduct (ProductID, ProductName, Category, SubCategory) \n",
    "        VALUES (?, ?, ?, ?)\"\"\",\n",
    "        row['Product ID'], row['Product ID'], row['Product Name'], row['Category'], row['Sub-Category'])\n",
    "\n",
    "# Insert dữ liệu vào bảng DimRegion\n",
    "for index, row in df.iterrows():\n",
    "    cursor.execute(\"\"\"\n",
    "        IF NOT EXISTS (SELECT 1 FROM DimRegion WHERE Country = ? AND State = ? AND City = ?)\n",
    "        INSERT INTO DimRegion (Country, State, City, PostalCode) \n",
    "        VALUES (?, ?, ?, ?)\"\"\",\n",
    "        row['Country'], row['State'], row['City'], row['Country'], row['State'], row['City'], row['Postal Code'])\n",
    "\n",
    "# Insert dữ liệu vào bảng DimDate\n",
    "for index, row in df.iterrows():\n",
    "    cursor.execute(\"\"\"\n",
    "        IF NOT EXISTS (SELECT 1 FROM DimDate WHERE OrderDate = ?)\n",
    "        INSERT INTO DimDate (OrderDate, ShipDate, Year, Month, Day) \n",
    "        VALUES (?, ?, ?, ?, ?)\"\"\",\n",
    "        row['Order Date'], row['Order Date'], row['Ship Date'], row['Year'], row['Month'], row['Day'])\n",
    "\n",
    "# Insert dữ liệu vào bảng FactSales\n",
    "for index, row in df.iterrows():\n",
    "    cursor.execute(\"\"\"\n",
    "        INSERT INTO FactSales (OrderID, CustomerID, ProductID, RegionID, DateID, Sales, Profit, Quantity, Discount) \n",
    "        VALUES (?, ?, ?, \n",
    "            (SELECT TOP 1 RegionID FROM DimRegion WHERE Country = ? AND State = ? AND City = ?),\n",
    "            (SELECT TOP 1 DateID FROM DimDate WHERE OrderDate = ?),\n",
    "            ?, ?, ?, ?)\"\"\",\n",
    "        row['Order ID'], row['Customer ID'], row['Product ID'],\n",
    "        row['Country'], row['State'], row['City'], row['Order Date'],\n",
    "        row['Sales'], row['Profit'], row['Quantity'], row['Discount'])\n",
    "\n",
    "# Commit và đóng kết nối\n",
    "conn.commit()\n",
    "cursor.close()\n",
    "conn.close()\n",
    "\n",
    "print(\"✅ Dữ liệu đã được nhập thành công vào SQL Server!\")\n"
   ]
  },
  {
   "cell_type": "code",
   "execution_count": null,
   "id": "c96c3d9e-986b-406c-8223-e7993856c7ee",
   "metadata": {},
   "outputs": [],
   "source": []
  }
 ],
 "metadata": {
  "kernelspec": {
   "display_name": "Python 3 (ipykernel)",
   "language": "python",
   "name": "python3"
  },
  "language_info": {
   "codemirror_mode": {
    "name": "ipython",
    "version": 3
   },
   "file_extension": ".py",
   "mimetype": "text/x-python",
   "name": "python",
   "nbconvert_exporter": "python",
   "pygments_lexer": "ipython3",
   "version": "3.12.4"
  }
 },
 "nbformat": 4,
 "nbformat_minor": 5
}
